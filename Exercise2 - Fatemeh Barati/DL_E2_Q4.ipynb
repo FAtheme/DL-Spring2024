{
  "cells": [
    {
      "cell_type": "markdown",
      "metadata": {
        "id": "view-in-github",
        "colab_type": "text"
      },
      "source": [
        "<a href=\"https://colab.research.google.com/github/FAtheme/DL-Spring2024/blob/main/Exercise2%20-%20Fatemeh%20Barati/DL_E2_Q4.ipynb\" target=\"_parent\"><img src=\"https://colab.research.google.com/assets/colab-badge.svg\" alt=\"Open In Colab\"/></a>"
      ]
    },
    {
      "cell_type": "code",
      "execution_count": null,
      "metadata": {
        "id": "QspdYi4Ditp3"
      },
      "outputs": [],
      "source": [
        "import os\n",
        "import torch\n",
        "import torchvision\n",
        "import torch.nn as nn\n",
        "import torchvision.transforms as transforms\n",
        "import torch.optim as optim\n",
        "import torch.nn.functional as F\n",
        "import matplotlib.pyplot as plt\n",
        "from torchvision import datasets\n",
        "from torch.utils.data import DataLoader\n",
        "from torchvision.utils import save_image"
      ]
    },
    {
      "cell_type": "code",
      "execution_count": null,
      "metadata": {
        "id": "xQRf-ObLmC_u"
      },
      "outputs": [],
      "source": [
        "NUM_EPOCHS = 50\n",
        "LEARNING_RATE = 1e-3\n",
        "BATCH_SIZE = 32"
      ]
    },
    {
      "cell_type": "code",
      "execution_count": null,
      "metadata": {
        "id": "mEvlR4zbmG5p"
      },
      "outputs": [],
      "source": [
        "transform = transforms.Compose([\n",
        "    transforms.ToTensor(),\n",
        "    transforms.Normalize((0.5, 0.5, 0.5), (0.5, 0.5, 0.5))\n",
        "])"
      ]
    },
    {
      "cell_type": "code",
      "execution_count": null,
      "metadata": {
        "colab": {
          "base_uri": "https://localhost:8080/"
        },
        "id": "op4p9jG3mJ8Z",
        "outputId": "b4a0c6ce-3012-45a3-dd74-da8481e3fdad"
      },
      "outputs": [
        {
          "output_type": "stream",
          "name": "stdout",
          "text": [
            "Files already downloaded and verified\n",
            "Files already downloaded and verified\n"
          ]
        }
      ],
      "source": [
        "trainset = datasets.CIFAR10(\n",
        "    root='./data',\n",
        "    train=True,\n",
        "    download=True,\n",
        "    transform=transform\n",
        ")\n",
        "testset = datasets.CIFAR10(\n",
        "    root='./data',\n",
        "    train=False,\n",
        "    download=True,\n",
        "    transform=transform\n",
        ")\n",
        "trainloader = DataLoader(\n",
        "    trainset,\n",
        "    batch_size=BATCH_SIZE,\n",
        "    shuffle=True\n",
        ")\n",
        "testloader = DataLoader(\n",
        "    testset,\n",
        "    batch_size=BATCH_SIZE,\n",
        "    shuffle=True\n",
        ")"
      ]
    },
    {
      "cell_type": "code",
      "execution_count": null,
      "metadata": {
        "id": "reBwyj-KmNAf"
      },
      "outputs": [],
      "source": [
        "def get_device():\n",
        "    if torch.cuda.is_available():\n",
        "        device = 'cuda:0'\n",
        "    else:\n",
        "        device = 'cpu'\n",
        "    return device\n",
        "def make_dir():\n",
        "    image_dir = 'Conv_CIFAR10_Images'\n",
        "    if not os.path.exists(image_dir):\n",
        "        os.makedirs(image_dir)\n",
        "def save_decoded_image(img, name):\n",
        "    img = img.view(img.size(0), 3, 32, 32)\n",
        "    save_image(img, name)"
      ]
    },
    {
      "cell_type": "code",
      "execution_count": null,
      "metadata": {
        "colab": {
          "base_uri": "https://localhost:8080/"
        },
        "id": "S_GeaSOGmQ1L",
        "outputId": "167a810e-e618-45b7-e1ad-499fb7c2f6a7"
      },
      "outputs": [
        {
          "output_type": "stream",
          "name": "stdout",
          "text": [
            "Autoencoder(\n",
            "  (enc1): Conv2d(3, 8, kernel_size=(3, 3), stride=(1, 1))\n",
            "  (enc2): Conv2d(8, 4, kernel_size=(3, 3), stride=(1, 1))\n",
            "  (dec1): ConvTranspose2d(4, 8, kernel_size=(3, 3), stride=(1, 1))\n",
            "  (dec2): ConvTranspose2d(8, 3, kernel_size=(3, 3), stride=(1, 1))\n",
            ")\n"
          ]
        }
      ],
      "source": [
        "class Autoencoder(nn.Module):\n",
        "    def __init__(self):\n",
        "        super(Autoencoder, self).__init__()\n",
        "        # encoder\n",
        "        self.enc1 = nn.Conv2d(\n",
        "            in_channels=3, out_channels=8, kernel_size=3\n",
        "        )\n",
        "        self.enc2 = nn.Conv2d(\n",
        "            in_channels=8, out_channels=4, kernel_size=3\n",
        "        )\n",
        "        # decoder\n",
        "        self.dec1 = nn.ConvTranspose2d(\n",
        "            in_channels=4, out_channels=8, kernel_size=3\n",
        "        )\n",
        "        self.dec2 = nn.ConvTranspose2d(\n",
        "            in_channels=8, out_channels=3, kernel_size=3\n",
        "        )\n",
        "    def forward(self, x):\n",
        "       x = F.relu(self.enc1(x))\n",
        "       x = F.relu(self.enc2(x))\n",
        "       x = F.relu(self.dec1(x))\n",
        "       x = F.relu(self.dec2(x))\n",
        "       return x\n",
        "net = Autoencoder()\n",
        "print(net)"
      ]
    },
    {
      "cell_type": "code",
      "execution_count": null,
      "metadata": {
        "id": "nt7LU98tmW5m"
      },
      "outputs": [],
      "source": [
        "criterion = nn.MSELoss()\n",
        "optimizer = optim.Adam(net.parameters(), lr=LEARNING_RATE)"
      ]
    },
    {
      "cell_type": "code",
      "source": [
        "def add_gaussian_noise(image, sigma):\n",
        "\n",
        "  noise = torch.randn_like(image) * sigma**2\n",
        "  noisy_image = image + noise\n",
        "\n",
        "  # Optional clipping for normalized images between 0 and 1\n",
        "  if image.min() >= 0.0 and image.max() <= 1.0:\n",
        "    noisy_image = torch.clamp(noisy_image, min=0.0, max=1.0)\n",
        "\n",
        "  return noisy_image"
      ],
      "metadata": {
        "id": "0Z_ckO7meKlE"
      },
      "execution_count": null,
      "outputs": []
    },
    {
      "cell_type": "code",
      "execution_count": null,
      "metadata": {
        "id": "AzCzMGhVmd5v"
      },
      "outputs": [],
      "source": [
        "def train(net, trainloader, NUM_EPOCHS):\n",
        "    train_loss = []\n",
        "    for epoch in range(NUM_EPOCHS):\n",
        "        running_loss = 0.0\n",
        "        for data in trainloader:\n",
        "            img, _ = data # no need for the labels\n",
        "            img = img.to(device)\n",
        "            # for i in range(10):\n",
        "            #   img = img.view(-1, 3, 32, 32).cpu().data  # Reshape the image tensor\n",
        "            #   plt.imshow(img)\n",
        "            #   plt.show()\n",
        "            img = add_gaussian_noise(img, 2)\n",
        "            # for i in range(10):\n",
        "            #   img = img.view(-1, 3, 32, 32).cpu().data  # Reshape the image tensor\n",
        "            #   plt.imshow(img)\n",
        "            #   plt.show()\n",
        "            optimizer.zero_grad()\n",
        "            outputs = net(img)\n",
        "            loss = criterion(outputs, img)\n",
        "            loss.backward()\n",
        "            optimizer.step()\n",
        "            running_loss += loss.item()\n",
        "\n",
        "        loss = running_loss / len(trainloader)\n",
        "        train_loss.append(loss)\n",
        "        print('Epoch {} of {}, Train Loss: {:.3f}'.format(\n",
        "            epoch+1, NUM_EPOCHS, loss))\n",
        "        if epoch % 5 == 0:\n",
        "            save_decoded_image(img.cpu().data, name='./Conv_CIFAR10_Images/original{}.png'.format(epoch))\n",
        "            save_decoded_image(outputs.cpu().data, name='./Conv_CIFAR10_Images/decoded{}.png'.format(epoch))\n",
        "    return train_loss\n",
        "def test_image_reconstruction(net, testloader):\n",
        "     for batch in testloader:\n",
        "        img, _ = batch\n",
        "        img = img.to(device)\n",
        "        outputs = net(img)\n",
        "        outputs = outputs.view(outputs.size(0), 3, 32, 32).cpu().data\n",
        "        save_image(outputs, 'conv_cifar10_reconstruction.png')\n",
        "        # for i in range(10):\n",
        "        #       plt.imshow(outputs, 'conv_cifar10_reconstruction.png')\n",
        "        #       plt.show()\n",
        "        break"
      ]
    },
    {
      "cell_type": "code",
      "execution_count": null,
      "metadata": {
        "id": "xTNpU7HymhVh",
        "colab": {
          "base_uri": "https://localhost:8080/",
          "height": 1000
        },
        "outputId": "17f4254a-b9d0-4a6a-9fa8-d899e9d59660"
      },
      "outputs": [
        {
          "output_type": "stream",
          "name": "stdout",
          "text": [
            "cuda:0\n",
            "Epoch 1 of 50, Train Loss: 9.871\n",
            "Epoch 2 of 50, Train Loss: 9.869\n",
            "Epoch 3 of 50, Train Loss: 9.870\n",
            "Epoch 4 of 50, Train Loss: 9.868\n",
            "Epoch 5 of 50, Train Loss: 9.870\n",
            "Epoch 6 of 50, Train Loss: 9.868\n",
            "Epoch 7 of 50, Train Loss: 9.869\n",
            "Epoch 8 of 50, Train Loss: 9.871\n",
            "Epoch 9 of 50, Train Loss: 9.865\n",
            "Epoch 10 of 50, Train Loss: 9.867\n",
            "Epoch 11 of 50, Train Loss: 9.867\n",
            "Epoch 12 of 50, Train Loss: 9.866\n",
            "Epoch 13 of 50, Train Loss: 9.868\n",
            "Epoch 14 of 50, Train Loss: 9.868\n",
            "Epoch 15 of 50, Train Loss: 9.866\n",
            "Epoch 16 of 50, Train Loss: 9.871\n",
            "Epoch 17 of 50, Train Loss: 9.869\n",
            "Epoch 18 of 50, Train Loss: 9.865\n",
            "Epoch 19 of 50, Train Loss: 9.869\n",
            "Epoch 20 of 50, Train Loss: 9.865\n",
            "Epoch 21 of 50, Train Loss: 9.867\n",
            "Epoch 22 of 50, Train Loss: 9.867\n",
            "Epoch 23 of 50, Train Loss: 9.866\n",
            "Epoch 24 of 50, Train Loss: 9.865\n",
            "Epoch 25 of 50, Train Loss: 9.864\n",
            "Epoch 26 of 50, Train Loss: 9.864\n",
            "Epoch 27 of 50, Train Loss: 9.866\n",
            "Epoch 28 of 50, Train Loss: 9.859\n",
            "Epoch 29 of 50, Train Loss: 9.866\n",
            "Epoch 30 of 50, Train Loss: 9.864\n",
            "Epoch 31 of 50, Train Loss: 9.860\n",
            "Epoch 32 of 50, Train Loss: 9.861\n",
            "Epoch 33 of 50, Train Loss: 9.861\n",
            "Epoch 34 of 50, Train Loss: 9.860\n",
            "Epoch 35 of 50, Train Loss: 9.861\n",
            "Epoch 36 of 50, Train Loss: 9.859\n",
            "Epoch 37 of 50, Train Loss: 9.859\n",
            "Epoch 38 of 50, Train Loss: 9.861\n",
            "Epoch 39 of 50, Train Loss: 9.855\n",
            "Epoch 40 of 50, Train Loss: 9.857\n",
            "Epoch 41 of 50, Train Loss: 9.856\n",
            "Epoch 42 of 50, Train Loss: 9.855\n",
            "Epoch 43 of 50, Train Loss: 9.855\n",
            "Epoch 44 of 50, Train Loss: 9.859\n",
            "Epoch 45 of 50, Train Loss: 9.851\n",
            "Epoch 46 of 50, Train Loss: 9.853\n",
            "Epoch 47 of 50, Train Loss: 9.854\n",
            "Epoch 48 of 50, Train Loss: 9.851\n",
            "Epoch 49 of 50, Train Loss: 9.851\n",
            "Epoch 50 of 50, Train Loss: 9.850\n"
          ]
        },
        {
          "output_type": "display_data",
          "data": {
            "text/plain": [
              "<Figure size 640x480 with 1 Axes>"
            ],
            "image/png": "[encoded data removed]"
          },
          "metadata": {}
        }
      ],
      "source": [
        "device = get_device()\n",
        "print(device)\n",
        "net.to(device)\n",
        "make_dir()\n",
        "# train_loss = train(net, trainloader, NUM_EPOCHS)\n",
        "train_loss = train(net, trainloader, NUM_EPOCHS)\n",
        "plt.figure()\n",
        "plt.plot(train_loss)\n",
        "plt.title('Train Loss')\n",
        "plt.xlabel('Epochs')\n",
        "plt.ylabel('Loss')\n",
        "plt.savefig('conv_ae_cifar10_loss.png')\n",
        "test_image_reconstruction(net, testloader)"
      ]
    }
  ],
  "metadata": {
    "colab": {
      "provenance": [],
      "gpuType": "T4",
      "authorship_tag": "ABX9TyO1UwhiSepfsnX8aNNPszfW",
      "include_colab_link": true
    },
    "kernelspec": {
      "display_name": "Python 3",
      "name": "python3"
    },
    "language_info": {
      "name": "python"
    },
    "accelerator": "GPU"
  },
  "nbformat": 4,
  "nbformat_minor": 0
}